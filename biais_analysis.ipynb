{
 "cells": [
  {
   "cell_type": "code",
   "execution_count": 1,
   "metadata": {},
   "outputs": [],
   "source": [
    "import numpy as np\n",
    "import os\n",
    "import spacy\n",
    "import matplotlib.pyplot as plt\n",
    "from sklearn.manifold import TSNE\n",
    "from spacy.vocab import Vocab\n",
    "import gensim\n",
    "import pandas as pd\n",
    "import seaborn as sns\n",
    "\n"
   ]
  },
  {
   "attachments": {},
   "cell_type": "markdown",
   "metadata": {},
   "source": [
    "## Preprocessing"
   ]
  },
  {
   "cell_type": "code",
   "execution_count": 4,
   "metadata": {},
   "outputs": [],
   "source": [
    "# Open the vector file and parse each line\n",
    "VECTOR_DIRECTORY = \"GloVe\"\n",
    "VECTOR_FILE = \"vectors_28_rappers.txt\"\n",
    "# VECTOR_1990_FILE_SMALL = \"vectors_rappers_big_1990.txt\"\n",
    "# VECTOR_2000_FILE_SMALL = \"vectors_rappers_big_2000.txt\"\n",
    "# VECTOR_2010_FILE_SMALL = \"vectors_rappers_big_2010.txt\"\n",
    "VECTOR_1990_FILE_SMALL = \"vectors_nyt_lemm_1990.txt\"\n",
    "VECTOR_2000_FILE_SMALL = \"vectors_nyt_lemm_2000.txt\"\n",
    "VECTOR_2010_FILE_SMALL = \"vectors_nyt_lemm_2010.txt\"\n",
    "NB_DIM = 50\n",
    "\n",
    "for file in [VECTOR_FILE,VECTOR_1990_FILE_SMALL, VECTOR_2000_FILE_SMALL, VECTOR_2010_FILE_SMALL]:\n",
    "    # Add the header to the docuement \n",
    "    with open(os.path.join(VECTOR_DIRECTORY,file), \"r\", encoding=\"utf-8\") as f:\n",
    "        contents = f.readlines()\n",
    "        nb_words = len(contents)  \n",
    "    with open(os.path.join(VECTOR_DIRECTORY,file), \"w\", encoding=\"utf-8\") as f:\n",
    "        f.write(f\"{nb_words} {NB_DIM}\\n\")\n",
    "        # Write the rest of the file, starting at the second line\n",
    "        for line in contents:\n",
    "            f.write(line)"
   ]
  },
  {
   "cell_type": "code",
   "execution_count": null,
   "metadata": {},
   "outputs": [],
   "source": []
  },
  {
   "attachments": {},
   "cell_type": "markdown",
   "metadata": {},
   "source": [
    "## Glove training"
   ]
  },
  {
   "attachments": {},
   "cell_type": "markdown",
   "metadata": {},
   "source": [
    "## Creating Vector Spaces"
   ]
  },
  {
   "cell_type": "code",
   "execution_count": 76,
   "metadata": {},
   "outputs": [],
   "source": [
    "\n",
    "\n",
    "# print(os.path.join(VECTOR_DIRECTORY,VECTOR_FILE))\n",
    "# word_vectors = {}\n",
    "# with open(os.path.join(VECTOR_DIRECTORY,VECTOR_FILE), \"r\") as f:\n",
    "#     for line in f:\n",
    "#         # Split the line into the word and the coordinates\n",
    "#         parts = line.strip().split()\n",
    "#         word = parts[0]\n",
    "#         vector = [float(x) for x in parts[1:]]\n",
    "#         # Store the vector in the dictionary\n",
    "#         word_vectors[word] = vector"
   ]
  },
  {
   "cell_type": "code",
   "execution_count": 77,
   "metadata": {},
   "outputs": [],
   "source": [
    "# len(word_vectors)"
   ]
  },
  {
   "cell_type": "code",
   "execution_count": 5,
   "metadata": {},
   "outputs": [],
   "source": [
    "\n",
    "## General space vector\n",
    "# Load pre-trained word vectors from a file\n",
    "word2vec_model = gensim.models.KeyedVectors.load_word2vec_format(os.path.join(VECTOR_DIRECTORY,VECTOR_FILE))\n",
    "custom_vocab = [ word for word in word2vec_model.key_to_index]\n",
    "\n",
    "\n",
    "word_vectors = {}\n",
    "for word in word2vec_model.key_to_index:\n",
    "    word_vectors[word] = word2vec_model.get_vector(word)\n",
    "    \n",
    "# Create a blank 'en' model\n",
    "custom_nlp = spacy.blank('en')\n",
    "vocab = Vocab(strings=custom_vocab)\n",
    "\n",
    "custom_nlp.vocab = vocab\n",
    "custom_nlp.vocab.vectors = spacy.vocab.Vectors(data=np.array([x for x in word_vectors.values()]), keys=word_vectors.keys())\n",
    "\n",
    "## 1990 space vector\n",
    "\n",
    "# word2vec_1990_model = gensim.models.KeyedVectors.load_word2vec_format(os.path.join(VECTOR_DIRECTORY,VECTOR_1990_FILE_SMALL))\n",
    "# custom_1990_vocab = [ word for word in word2vec_model.key_to_index]\n",
    "# word_1990_vectors = {}\n",
    "# for word in word2vec_1990_model.key_to_index:\n",
    "#     word_1990_vectors[word] = word2vec_1990_model.get_vector(word)\n",
    "\n",
    "# # Create a blank 'en' model\n",
    "# custom_1990_nlp = spacy.blank('en')\n",
    "# vocab_1990 = Vocab(strings=custom_1990_vocab)\n",
    "\n",
    "# custom_1990_nlp.vocab = vocab_1990\n",
    "# custom_1990_nlp.vocab.vectors = spacy.vocab.Vectors(data=np.array([x for x in word_1990_vectors.values()]), keys=word_1990_vectors.keys())\n",
    "\n",
    "word2vec_1990_model = gensim.models.KeyedVectors.load_word2vec_format(os.path.join(VECTOR_DIRECTORY,VECTOR_1990_FILE_SMALL))\n",
    "custom_1990_vocab = [ word for word in word2vec_1990_model.key_to_index]\n",
    "word_1990_vectors = {}\n",
    "for word in word2vec_1990_model.key_to_index:\n",
    "    word_1990_vectors[word] = word2vec_1990_model.get_vector(word)\n",
    "\n",
    "\n",
    "# Create a blank 'en' model\n",
    "custom_1990_nlp = spacy.blank('en')\n",
    "vocab_1990 = Vocab(strings=custom_1990_vocab)\n",
    "\n",
    "custom_1990_nlp.vocab = vocab_1990\n",
    "custom_1990_nlp.vocab.vectors = spacy.vocab.Vectors(data=np.array([x for x in word_1990_vectors.values()]), keys=word_1990_vectors.keys())\n",
    "\n",
    "\n",
    "\n",
    "## 2000 space vector\n",
    "\n",
    "word2vec_2000_model = gensim.models.KeyedVectors.load_word2vec_format(os.path.join(VECTOR_DIRECTORY,VECTOR_2000_FILE_SMALL))\n",
    "custom_2000_vocab = [ word for word in word2vec_2000_model.key_to_index]\n",
    "word_2000_vectors = {}\n",
    "for word in word2vec_2000_model.key_to_index:\n",
    "    word_2000_vectors[word] = word2vec_2000_model.get_vector(word)\n",
    "\n",
    "\n",
    "# Create a blank 'en' model\n",
    "custom_2000_nlp = spacy.blank('en')\n",
    "vocab_2000 = Vocab(strings=custom_2000_vocab)\n",
    "\n",
    "custom_2000_nlp.vocab = vocab_2000\n",
    "custom_2000_nlp.vocab.vectors = spacy.vocab.Vectors(data=np.array([x for x in word_2000_vectors.values()]), keys=word_2000_vectors.keys())\n",
    "\n",
    "## 2010 space vector\n",
    "\n",
    "word2vec_2010_model = gensim.models.KeyedVectors.load_word2vec_format(os.path.join(VECTOR_DIRECTORY,VECTOR_2010_FILE_SMALL))\n",
    "custom_2010_vocab = [word for word in word2vec_2010_model.key_to_index]\n",
    "word_2010_vectors = {}\n",
    "for word in word2vec_2010_model.key_to_index:\n",
    "    word_2010_vectors[word] = word2vec_2010_model.get_vector(word)\n",
    "\n",
    "custom_2010_nlp = spacy.blank('en')\n",
    "vocab_2010 = Vocab(strings=custom_2010_vocab)\n",
    "\n",
    "custom_2010_nlp.vocab = vocab_2010\n",
    "custom_2010_nlp.vocab.vectors = spacy.vocab.Vectors(data=np.array([x for x in word_2010_vectors.values()]), keys=word_2010_vectors.keys())\n"
   ]
  },
  {
   "cell_type": "code",
   "execution_count": 6,
   "metadata": {},
   "outputs": [
    {
     "data": {
      "text/plain": [
       "array([-0.712811, -0.140515, -0.081661,  0.396104, -0.091681,  0.423857,\n",
       "        0.81266 ,  0.68768 ,  0.809664, -0.618594,  0.973625,  0.445852,\n",
       "        0.370933, -0.431238, -1.549036, -1.258613,  0.694409, -0.205649,\n",
       "        0.143962, -1.546777,  0.282567,  0.847189,  0.581555,  0.147283,\n",
       "       -0.549805, -0.558739, -0.087303, -0.961443,  0.098608,  0.79471 ,\n",
       "       -0.445081, -0.378597,  0.702106,  1.185524, -0.101263, -1.157129,\n",
       "        0.268728, -0.576952,  1.158778,  0.239885, -1.015502,  0.498279,\n",
       "        1.43314 , -0.150734, -0.405948,  0.661739, -0.747595,  0.245968,\n",
       "       -0.10046 ,  0.430676], dtype=float32)"
      ]
     },
     "execution_count": 6,
     "metadata": {},
     "output_type": "execute_result"
    }
   ],
   "source": [
    "custom_1990_nlp.vocab['women'].vector"
   ]
  },
  {
   "cell_type": "code",
   "execution_count": 7,
   "metadata": {},
   "outputs": [],
   "source": [
    "def most_similar(nlp,x, n=10):\n",
    "    \"\"\"Returns the n most similar words to the given vector x\"\"\"\n",
    "    list = nlp.vocab.vectors.most_similar(x.reshape(1, -1), n=n)\n",
    "    list = [nlp.vocab[i] for i in list[0][0]]\n",
    "    return list"
   ]
  },
  {
   "cell_type": "code",
   "execution_count": 8,
   "metadata": {},
   "outputs": [
    {
     "name": "stdout",
     "output_type": "stream",
     "text": [
      "women men young basketball national children black lives people woman college finds sex team studies jewish community voters residents including organization campaign elderly latina risk students rights brandeis history years teams longer nude attention university center association american disabilities man taken day giving lead health look having quake research board football taking especially education outnumber photos states study patients america left world care older committee behalf educate rutgers political holds doctors improve early photo m recent media hospital local need hollinger researchers americans win s experience rubicam policy council girls serve african pregnant blythedale disease says life female conscious success\n"
     ]
    }
   ],
   "source": [
    "print(' '.join(w.text for w in most_similar(custom_2000_nlp,custom_2000_nlp.vocab['women'].vector,100)))"
   ]
  },
  {
   "cell_type": "code",
   "execution_count": 82,
   "metadata": {},
   "outputs": [
    {
     "name": "stdout",
     "output_type": "stream",
     "text": [
      "money numb spend digits pain push milf stack gettin ask time niggas mind bitches gifted shit power talking bout tall races getting racks cause got nigga need coming gon young cash count love ai fuck digger lyrics throw baby bag countin dip wanna fast line play like lettin man huh know throwin shake yeah bank awake checks diamonds right palm hoes family let trust want fame blow stash sunday season stand bands talkin dance high way reason dancer milk bitch ta jumpin talk pocket club world half monday feet trees come counting stay little envy big dropped everybody check fly\n"
     ]
    }
   ],
   "source": [
    "print(' '.join(w.text for w in most_similar(custom_2010_nlp,custom_2010_nlp.vocab['money'].vector,100)))"
   ]
  },
  {
   "cell_type": "code",
   "execution_count": 83,
   "metadata": {},
   "outputs": [],
   "source": [
    "from  sklearn.manifold import TSNE\n",
    "import matplotlib.pyplot as plt\n",
    "colors = [\n",
    "    'red', 'green', 'blue', 'yellow', 'purple', 'orange', 'black', 'lime', 'pink'\n",
    "]\n",
    "\n",
    "n_sample = 10\n",
    "\n",
    "def plot_most_similar(vocabulary):\n",
    "    most_similar = []\n",
    "    for word in vocabulary:\n",
    "        query = np.asarray([word.vector])\n",
    "        most_similar.append(nlp.vocab.vectors.most_similar(query, n=n_sample))\n",
    "\n",
    "    vectors = []\n",
    "    labels = []\n",
    "    for similars in most_similar:\n",
    "        for key in similars[0][0]:\n",
    "            vectors.append(nlp.vocab[key].vector)\n",
    "            labels.append(nlp.vocab.strings[key])\n",
    "\n",
    "    reduced_vectors = TSNE(n_components=2, perplexity=2).fit_transform(np.asanyarray(vectors))\n",
    "  \n",
    "    fig, ax = plt.subplots()\n",
    "    fig.set_size_inches(10, 10)\n",
    "    index_label = 0\n",
    "    for vector in reduced_vectors:\n",
    "        ax.scatter(vector[0], vector[1], c=colors[int(index_label / n_sample)])\n",
    "        ax.annotate(labels[index_label], (vector[0], vector[1]))\n",
    "        index_label += 1"
   ]
  },
  {
   "cell_type": "code",
   "execution_count": 84,
   "metadata": {},
   "outputs": [
    {
     "data": {
      "image/png": "[encoded data removed]",
      "text/plain": [
       "<Figure size 1000x1000 with 1 Axes>"
      ]
     },
     "metadata": {},
     "output_type": "display_data"
    }
   ],
   "source": [
    "plot_most_similar(nlp.vocab[w] for w in ['men', 'women'])"
   ]
  },
  {
   "attachments": {},
   "cell_type": "markdown",
   "metadata": {},
   "source": [
    "## Analysis"
   ]
  },
  {
   "cell_type": "code",
   "execution_count": 15,
   "metadata": {},
   "outputs": [],
   "source": [
    "\n",
    "anaylysis_nlp = spacy.load('en_core_web_md')"
   ]
  },
  {
   "cell_type": "code",
   "execution_count": 9,
   "metadata": {},
   "outputs": [],
   "source": [
    "## Getting the centroid vector of a list of words\n",
    "def get_centroid_vector(nlp, words):\n",
    "    # Compute the mean of the vectors of the tokens\n",
    "    vector = np.mean([nlp.vocab[word].vector for word in words], axis=0)\n",
    "    vector = most_similar(nlp,vector,1)[0]\n",
    "    return vector"
   ]
  },
  {
   "cell_type": "code",
   "execution_count": 10,
   "metadata": {},
   "outputs": [],
   "source": [
    "def get_the_gender(gender_vectors, concept_vector):\n",
    "    # Compute the cosine similarity between the concept\n",
    "    # print(gender_vectors[0].similarity(concept_vector))\n",
    "    # print(concept_vector.vector)\n",
    "    if gender_vectors[0].similarity(concept_vector) >  gender_vectors[1].similarity(concept_vector):\n",
    "        return \"Female\"\n",
    "    else:\n",
    "        return \"Male\""
   ]
  },
  {
   "cell_type": "code",
   "execution_count": 11,
   "metadata": {},
   "outputs": [],
   "source": [
    "def get_the_similarity(gender_vectors, concept_vector):\n",
    "    return gender_vectors[0].similarity(concept_vector) ,  gender_vectors[1].similarity(concept_vector)"
   ]
  },
  {
   "attachments": {},
   "cell_type": "markdown",
   "metadata": {},
   "source": [
    "### General"
   ]
  },
  {
   "cell_type": "code",
   "execution_count": 14,
   "metadata": {},
   "outputs": [
    {
     "data": {
      "text/plain": [
       "array([-0.465795,  0.211679,  0.469522,  0.590993,  0.034188,  0.270072,\n",
       "        0.519595,  0.449081,  0.462998,  0.057653, -0.324602,  0.275774,\n",
       "        0.790755, -0.092275, -0.209907, -0.194806, -0.123909, -0.181743,\n",
       "       -0.336498,  0.313324, -0.912776,  0.264077,  0.056343, -0.149799,\n",
       "       -0.007565,  0.355341,  0.409538, -0.190968, -0.675465, -0.103554,\n",
       "       -0.011035,  0.537779,  0.323223,  0.063154,  0.006478,  0.089981,\n",
       "       -0.216941, -0.589293, -0.542214, -0.133556, -0.204511,  0.19978 ,\n",
       "       -0.392468,  0.194904,  0.352912,  0.087991, -0.037734,  0.571515,\n",
       "       -0.132913,  0.005455], dtype=float32)"
      ]
     },
     "execution_count": 14,
     "metadata": {},
     "output_type": "execute_result"
    }
   ],
   "source": [
    "custom_nlp.vocab['power'].vector"
   ]
  },
  {
   "cell_type": "code",
   "execution_count": 90,
   "metadata": {},
   "outputs": [
    {
     "ename": "AttributeError",
     "evalue": "'numpy.ndarray' object has no attribute 'vocab'",
     "output_type": "error",
     "traceback": [
      "\u001b[1;31m---------------------------------------------------------------------------\u001b[0m",
      "\u001b[1;31mAttributeError\u001b[0m                            Traceback (most recent call last)",
      "Cell \u001b[1;32mIn[90], line 3\u001b[0m\n\u001b[0;32m      1\u001b[0m women_centroid_vector \u001b[39m=\u001b[39m get_centroid_vector(custom_nlp, [\u001b[39m'\u001b[39m\u001b[39mwomen\u001b[39m\u001b[39m'\u001b[39m, \u001b[39m'\u001b[39m\u001b[39mgirl\u001b[39m\u001b[39m'\u001b[39m, \u001b[39m'\u001b[39m\u001b[39mlady\u001b[39m\u001b[39m'\u001b[39m])\n\u001b[0;32m      2\u001b[0m men_centroid_vector \u001b[39m=\u001b[39m get_centroid_vector(custom_nlp, [\u001b[39m'\u001b[39m\u001b[39mmen\u001b[39m\u001b[39m'\u001b[39m,\u001b[39m'\u001b[39m\u001b[39mboy\u001b[39m\u001b[39m'\u001b[39m,\u001b[39m'\u001b[39m\u001b[39mguy\u001b[39m\u001b[39m'\u001b[39m])\n\u001b[1;32m----> 3\u001b[0m women_related_words \u001b[39m=\u001b[39m \u001b[39m'\u001b[39m\u001b[39m \u001b[39m\u001b[39m'\u001b[39m\u001b[39m.\u001b[39mjoin(w\u001b[39m.\u001b[39mtext \u001b[39mfor\u001b[39;00m w \u001b[39min\u001b[39;00m most_similar(women_centroid_vector\u001b[39m.\u001b[39;49mvector,\u001b[39m100\u001b[39;49m))\n\u001b[0;32m      4\u001b[0m men_related_words \u001b[39m=\u001b[39m \u001b[39m'\u001b[39m\u001b[39m \u001b[39m\u001b[39m'\u001b[39m\u001b[39m.\u001b[39mjoin(w\u001b[39m.\u001b[39mtext \u001b[39mfor\u001b[39;00m w \u001b[39min\u001b[39;00m most_similar(men_centroid_vector\u001b[39m.\u001b[39mvector,\u001b[39m100\u001b[39m))\n",
      "Cell \u001b[1;32mIn[80], line 3\u001b[0m, in \u001b[0;36mmost_similar\u001b[1;34m(nlp, x, n)\u001b[0m\n\u001b[0;32m      1\u001b[0m \u001b[39mdef\u001b[39;00m \u001b[39mmost_similar\u001b[39m(nlp,x, n\u001b[39m=\u001b[39m\u001b[39m10\u001b[39m):\n\u001b[0;32m      2\u001b[0m     \u001b[39m\"\"\"Returns the n most similar words to the given vector x\"\"\"\u001b[39;00m\n\u001b[1;32m----> 3\u001b[0m     \u001b[39mlist\u001b[39m \u001b[39m=\u001b[39m nlp\u001b[39m.\u001b[39;49mvocab\u001b[39m.\u001b[39mvectors\u001b[39m.\u001b[39mmost_similar(x\u001b[39m.\u001b[39mreshape(\u001b[39m1\u001b[39m, \u001b[39m-\u001b[39m\u001b[39m1\u001b[39m), n\u001b[39m=\u001b[39mn)\n\u001b[0;32m      4\u001b[0m     \u001b[39mlist\u001b[39m \u001b[39m=\u001b[39m [nlp\u001b[39m.\u001b[39mvocab[i] \u001b[39mfor\u001b[39;00m i \u001b[39min\u001b[39;00m \u001b[39mlist\u001b[39m[\u001b[39m0\u001b[39m][\u001b[39m0\u001b[39m]]\n\u001b[0;32m      5\u001b[0m     \u001b[39mreturn\u001b[39;00m \u001b[39mlist\u001b[39m\n",
      "\u001b[1;31mAttributeError\u001b[0m: 'numpy.ndarray' object has no attribute 'vocab'"
     ]
    }
   ],
   "source": [
    "women_centroid_vector = get_centroid_vector(custom_nlp, ['women', 'girl', 'lady'])\n",
    "men_centroid_vector = get_centroid_vector(custom_nlp, ['men','boy','guy'])\n",
    "women_related_words = ' '.join(w.text for w in most_similar(women_centroid_vector.vector,100))\n",
    "men_related_words = ' '.join(w.text for w in most_similar(men_centroid_vector.vector,100))"
   ]
  },
  {
   "attachments": {},
   "cell_type": "markdown",
   "metadata": {},
   "source": [
    "#### The POS tag of words that are the closest"
   ]
  },
  {
   "cell_type": "code",
   "execution_count": null,
   "metadata": {},
   "outputs": [
    {
     "data": {
      "text/plain": [
       "[('VERB', 37),\n",
       " ('NOUN', 30),\n",
       " ('PROPN', 11),\n",
       " ('ADJ', 10),\n",
       " ('INTJ', 5),\n",
       " ('ADV', 3),\n",
       " ('PUNCT', 1),\n",
       " ('ADP', 1),\n",
       " ('SCONJ', 1),\n",
       " ('AUX', 1)]"
      ]
     },
     "execution_count": 167,
     "metadata": {},
     "output_type": "execute_result"
    }
   ],
   "source": [
    "women_pos = {}\n",
    "for word in women_related_words.split(' '):\n",
    "    doc = anaylysis_nlp(word)\n",
    "    for token in doc:\n",
    "        if token.pos_ not in women_pos.keys():\n",
    "            women_pos[token.pos_] =1\n",
    "        else:\n",
    "            women_pos[token.pos_] +=1\n",
    "sorted(women_pos.items(), key=lambda x: x[1], reverse=True)\n",
    "     "
   ]
  },
  {
   "cell_type": "code",
   "execution_count": null,
   "metadata": {},
   "outputs": [
    {
     "data": {
      "text/plain": [
       "[('VERB', 31),\n",
       " ('NOUN', 31),\n",
       " ('ADJ', 16),\n",
       " ('PROPN', 10),\n",
       " ('INTJ', 5),\n",
       " ('ADV', 5),\n",
       " ('X', 2)]"
      ]
     },
     "execution_count": 168,
     "metadata": {},
     "output_type": "execute_result"
    }
   ],
   "source": [
    "men_pos = {}\n",
    "for word in men_related_words.split(' '):\n",
    "    doc = anaylysis_nlp(word)\n",
    "    for token in doc:\n",
    "        if token.pos_ not in men_pos.keys():\n",
    "            men_pos[token.pos_] =1\n",
    "        else:\n",
    "            men_pos[token.pos_] +=1\n",
    "sorted(men_pos.items(), key=lambda x: x[1], reverse=True)"
   ]
  },
  {
   "attachments": {},
   "cell_type": "markdown",
   "metadata": {},
   "source": [
    "#### Closest adjectives"
   ]
  },
  {
   "cell_type": "code",
   "execution_count": null,
   "metadata": {},
   "outputs": [
    {
     "name": "stdout",
     "output_type": "stream",
     "text": [
      "nice\n",
      "easy\n",
      "good\n",
      "crooked\n",
      "fine\n",
      "fat\n",
      "plenty\n",
      "hypnotic\n",
      "big\n",
      "white\n"
     ]
    }
   ],
   "source": [
    "for word in women_related_words.split(' '):\n",
    "    doc = anaylysis_nlp(word)\n",
    "    for token in doc:\n",
    "        if token.pos_ == 'ADJ':\n",
    "            print(token.text)"
   ]
  },
  {
   "cell_type": "code",
   "execution_count": null,
   "metadata": {},
   "outputs": [
    {
     "name": "stdout",
     "output_type": "stream",
     "text": [
      "bad\n",
      "lame\n",
      "crazy\n",
      "nice\n",
      "little\n",
      "thick\n",
      "cool\n",
      "good\n",
      "fat\n",
      "loud\n",
      "okay\n",
      "young\n",
      "big\n",
      "funny\n",
      "hort\n",
      "black\n"
     ]
    }
   ],
   "source": [
    "for word in men_related_words.split(' '):\n",
    "    doc = anaylysis_nlp(word)\n",
    "    for token in doc:\n",
    "        if token.pos_ == 'ADJ':\n",
    "            print(token.text)"
   ]
  },
  {
   "attachments": {},
   "cell_type": "markdown",
   "metadata": {},
   "source": [
    "#### Closest Noun"
   ]
  },
  {
   "cell_type": "code",
   "execution_count": null,
   "metadata": {},
   "outputs": [
    {
     "name": "stdout",
     "output_type": "stream",
     "text": [
      "girl\n",
      "fans\n",
      "jerk\n",
      "body\n",
      "lambo\n",
      "woman\n",
      "way\n",
      "baby\n",
      "style\n",
      "morn\n",
      "goal\n",
      "seat\n",
      "word\n",
      "love\n",
      "bands\n",
      "business\n",
      "wine\n",
      "face\n",
      "tactics\n",
      "jeans\n",
      "text\n",
      "mom\n",
      "lyrics\n",
      "jus\n",
      "lights\n",
      "emotion\n",
      "changes\n",
      "hair\n",
      "party\n",
      "dough\n"
     ]
    }
   ],
   "source": [
    "for word in women_related_words.split(' '):\n",
    "    doc = anaylysis_nlp(word)\n",
    "    for token in doc:\n",
    "        if token.pos_ == 'NOUN':\n",
    "            print(token.text)"
   ]
  },
  {
   "cell_type": "code",
   "execution_count": null,
   "metadata": {},
   "outputs": [
    {
     "name": "stdout",
     "output_type": "stream",
     "text": [
      "face\n",
      "folks\n",
      "job\n",
      "hell\n",
      "motherfuckers\n",
      "drug\n",
      "love\n",
      "streets\n",
      "style\n",
      "word\n",
      "honey\n",
      "girl\n",
      "game\n",
      "daddy\n",
      "things\n",
      "money\n",
      "chicks\n",
      "work\n",
      "boys\n",
      "east\n",
      "shakin\n",
      "moon\n",
      "guy\n",
      "mother\n",
      "bitches\n",
      "feelin\n",
      "sight\n",
      "day\n",
      "place\n",
      "bus\n",
      "lights\n"
     ]
    }
   ],
   "source": [
    "for word in men_related_words.split(' '):\n",
    "    doc = anaylysis_nlp(word)\n",
    "    for token in doc:\n",
    "        if token.pos_ == 'NOUN':\n",
    "            print(token.text)"
   ]
  },
  {
   "attachments": {},
   "cell_type": "markdown",
   "metadata": {},
   "source": [
    "#### Closest verb"
   ]
  },
  {
   "cell_type": "code",
   "execution_count": null,
   "metadata": {},
   "outputs": [
    {
     "name": "stdout",
     "output_type": "stream",
     "text": [
      "relax\n",
      "settle\n",
      "telling\n",
      "lay\n",
      "found\n",
      "relate\n",
      "gave\n",
      "need\n",
      "catch\n",
      "turn\n",
      "want\n",
      "smile\n",
      "suck\n",
      "loving\n",
      "act\n",
      "find\n",
      "tell\n",
      "reach\n",
      "forget\n",
      "leave\n",
      "ask\n",
      "hold\n",
      "meet\n",
      "riding\n",
      "worried\n",
      "went\n",
      "let\n",
      "cause\n",
      "fight\n",
      "ran\n",
      "know\n",
      "aww\n",
      "shook\n",
      "hear\n",
      "help\n",
      "break\n",
      "listen\n"
     ]
    }
   ],
   "source": [
    "for word in women_related_words.split(' '):\n",
    "    doc = anaylysis_nlp(word)\n",
    "    for token in doc:\n",
    "        if token.pos_ == 'VERB':\n",
    "            print(token.text)"
   ]
  },
  {
   "cell_type": "code",
   "execution_count": null,
   "metadata": {},
   "outputs": [
    {
     "name": "stdout",
     "output_type": "stream",
     "text": [
      "boo\n",
      "act\n",
      "know\n",
      "caught\n",
      "think\n",
      "lost\n",
      "looking\n",
      "diss\n",
      "fuck\n",
      "asked\n",
      "hate\n",
      "mean\n",
      "fact\n",
      "heard\n",
      "hope\n",
      "gave\n",
      "fed\n",
      "met\n",
      "ai\n",
      "ear\n",
      "believe\n",
      "forget\n",
      "stop\n",
      "found\n",
      "ran\n",
      "thought\n",
      "need\n",
      "grown\n",
      "cut\n",
      "bling\n",
      "fucked\n"
     ]
    }
   ],
   "source": [
    "for word in men_related_words.split(' '):\n",
    "    doc = anaylysis_nlp(word)\n",
    "    for token in doc:\n",
    "        if token.pos_ == 'VERB':\n",
    "            print(token.text)"
   ]
  },
  {
   "attachments": {},
   "cell_type": "markdown",
   "metadata": {},
   "source": [
    "#### Plot the similarity between gender on concepts"
   ]
  },
  {
   "cell_type": "code",
   "execution_count": null,
   "metadata": {},
   "outputs": [],
   "source": [
    "gender_vectors = [women_centroid_vector,men_centroid_vector]"
   ]
  },
  {
   "cell_type": "code",
   "execution_count": null,
   "metadata": {},
   "outputs": [
    {
     "name": "stderr",
     "output_type": "stream",
     "text": [
      "C:\\Users\\Owein\\AppData\\Local\\Temp\\ipykernel_9272\\3806629756.py:2: UserWarning: [W008] Evaluating Lexeme.similarity based on empty vectors.\n",
      "  return gender_vectors[0].similarity(concept_vector) ,  gender_vectors[1].similarity(concept_vector)\n"
     ]
    }
   ],
   "source": [
    "concepts = ['power','money','fame','work','fear', 'love', 'hate', 'anger', 'joy', 'sadness', 'trust', 'disgust', 'surprise', 'anticipation', 'hope', 'relief', 'envy', 'guilt', 'shame', 'pride', 'optimism', 'pessimism', 'faith', 'despair', 'courage', 'bravery', 'kindness', 'compassion', 'honesty', 'loyalty', 'justice', 'fairness', 'truth', 'beauty', 'ugliness', 'intelligence', 'stupidity', 'wisdom', 'foolishness', 'strength', 'weakness', 'health', 'illness', 'life', 'death', 'peace', 'war', 'freedom']\n",
    "concept_genders = {}\n",
    "for concept in concepts:\n",
    "    concept_genders[concept] = get_the_similarity(gender_vectors, custom_nlp.vocab[concept])\n"
   ]
  },
  {
   "cell_type": "code",
   "execution_count": null,
   "metadata": {},
   "outputs": [],
   "source": [
    "import pandas as pd\n",
    "values = list(concept_genders.values())\n",
    "df = pd.DataFrame({'concept': list(concept_genders.keys()), 'women': [x for x, y in values], 'men': [y for x, y in values]})\n"
   ]
  },
  {
   "cell_type": "code",
   "execution_count": null,
   "metadata": {},
   "outputs": [
    {
     "data": {
      "text/html": [
       "<div>\n",
       "<style scoped>\n",
       "    .dataframe tbody tr th:only-of-type {\n",
       "        vertical-align: middle;\n",
       "    }\n",
       "\n",
       "    .dataframe tbody tr th {\n",
       "        vertical-align: top;\n",
       "    }\n",
       "\n",
       "    .dataframe thead th {\n",
       "        text-align: right;\n",
       "    }\n",
       "</style>\n",
       "<table border=\"1\" class=\"dataframe\">\n",
       "  <thead>\n",
       "    <tr style=\"text-align: right;\">\n",
       "      <th></th>\n",
       "      <th>concept</th>\n",
       "      <th>women</th>\n",
       "      <th>men</th>\n",
       "    </tr>\n",
       "  </thead>\n",
       "  <tbody>\n",
       "    <tr>\n",
       "      <th>0</th>\n",
       "      <td>power</td>\n",
       "      <td>-0.004742</td>\n",
       "      <td>-0.128928</td>\n",
       "    </tr>\n",
       "    <tr>\n",
       "      <th>1</th>\n",
       "      <td>money</td>\n",
       "      <td>0.157959</td>\n",
       "      <td>0.293631</td>\n",
       "    </tr>\n",
       "    <tr>\n",
       "      <th>2</th>\n",
       "      <td>fame</td>\n",
       "      <td>0.539748</td>\n",
       "      <td>0.221141</td>\n",
       "    </tr>\n",
       "    <tr>\n",
       "      <th>3</th>\n",
       "      <td>shine</td>\n",
       "      <td>-0.307635</td>\n",
       "      <td>-0.253759</td>\n",
       "    </tr>\n",
       "    <tr>\n",
       "      <th>4</th>\n",
       "      <td>work</td>\n",
       "      <td>0.139027</td>\n",
       "      <td>0.279030</td>\n",
       "    </tr>\n",
       "    <tr>\n",
       "      <th>5</th>\n",
       "      <td>fear</td>\n",
       "      <td>-0.199994</td>\n",
       "      <td>-0.396996</td>\n",
       "    </tr>\n",
       "    <tr>\n",
       "      <th>6</th>\n",
       "      <td>love</td>\n",
       "      <td>0.435408</td>\n",
       "      <td>0.345494</td>\n",
       "    </tr>\n",
       "    <tr>\n",
       "      <th>7</th>\n",
       "      <td>hate</td>\n",
       "      <td>0.047675</td>\n",
       "      <td>0.354393</td>\n",
       "    </tr>\n",
       "    <tr>\n",
       "      <th>11</th>\n",
       "      <td>trust</td>\n",
       "      <td>-0.212231</td>\n",
       "      <td>0.025974</td>\n",
       "    </tr>\n",
       "    <tr>\n",
       "      <th>15</th>\n",
       "      <td>hope</td>\n",
       "      <td>0.097301</td>\n",
       "      <td>0.319485</td>\n",
       "    </tr>\n",
       "    <tr>\n",
       "      <th>19</th>\n",
       "      <td>shame</td>\n",
       "      <td>-0.048144</td>\n",
       "      <td>-0.140637</td>\n",
       "    </tr>\n",
       "    <tr>\n",
       "      <th>23</th>\n",
       "      <td>faith</td>\n",
       "      <td>0.204307</td>\n",
       "      <td>0.030737</td>\n",
       "    </tr>\n",
       "    <tr>\n",
       "      <th>33</th>\n",
       "      <td>truth</td>\n",
       "      <td>0.062575</td>\n",
       "      <td>0.177888</td>\n",
       "    </tr>\n",
       "    <tr>\n",
       "      <th>40</th>\n",
       "      <td>strength</td>\n",
       "      <td>-0.156541</td>\n",
       "      <td>-0.206087</td>\n",
       "    </tr>\n",
       "    <tr>\n",
       "      <th>44</th>\n",
       "      <td>life</td>\n",
       "      <td>0.198578</td>\n",
       "      <td>-0.004612</td>\n",
       "    </tr>\n",
       "    <tr>\n",
       "      <th>45</th>\n",
       "      <td>death</td>\n",
       "      <td>-0.072347</td>\n",
       "      <td>0.116583</td>\n",
       "    </tr>\n",
       "    <tr>\n",
       "      <th>46</th>\n",
       "      <td>peace</td>\n",
       "      <td>-0.142389</td>\n",
       "      <td>0.048977</td>\n",
       "    </tr>\n",
       "    <tr>\n",
       "      <th>47</th>\n",
       "      <td>war</td>\n",
       "      <td>-0.183202</td>\n",
       "      <td>-0.043508</td>\n",
       "    </tr>\n",
       "  </tbody>\n",
       "</table>\n",
       "</div>"
      ],
      "text/plain": [
       "     concept     women       men\n",
       "0      power -0.004742 -0.128928\n",
       "1      money  0.157959  0.293631\n",
       "2       fame  0.539748  0.221141\n",
       "3      shine -0.307635 -0.253759\n",
       "4       work  0.139027  0.279030\n",
       "5       fear -0.199994 -0.396996\n",
       "6       love  0.435408  0.345494\n",
       "7       hate  0.047675  0.354393\n",
       "11     trust -0.212231  0.025974\n",
       "15      hope  0.097301  0.319485\n",
       "19     shame -0.048144 -0.140637\n",
       "23     faith  0.204307  0.030737\n",
       "33     truth  0.062575  0.177888\n",
       "40  strength -0.156541 -0.206087\n",
       "44      life  0.198578 -0.004612\n",
       "45     death -0.072347  0.116583\n",
       "46     peace -0.142389  0.048977\n",
       "47       war -0.183202 -0.043508"
      ]
     },
     "execution_count": 217,
     "metadata": {},
     "output_type": "execute_result"
    }
   ],
   "source": []
  },
  {
   "cell_type": "code",
   "execution_count": null,
   "metadata": {},
   "outputs": [
    {
     "data": {
      "image/png": "[encoded data removed]",
      "text/plain": [
       "<Figure size 1100x500 with 1 Axes>"
      ]
     },
     "metadata": {},
     "output_type": "display_data"
    }
   ],
   "source": [
    "import seaborn as sns\n",
    "import pandas as pd\n",
    "\n",
    "plt.figure(figsize=(11,5))\n",
    "\n",
    "# Compute the difference in similarity between men and women\n",
    "df['difference'] = df['women'] - df['men']\n",
    "\n",
    "# Create the bar plot\n",
    "sns.barplot(x='concept', y='difference', data=df[df['men']!=0])\n",
    "\n",
    "# Add labels and title\n",
    "plt.xlabel('Concepts')\n",
    "plt.ylabel('Similarity Difference')\n",
    "plt.title('Similarity difference between Male and Female by Concept')\n",
    "\n",
    "# Show the plot\n",
    "plt.show()\n"
   ]
  },
  {
   "cell_type": "code",
   "execution_count": null,
   "metadata": {},
   "outputs": [
    {
     "data": {
      "text/html": [
       "<div>\n",
       "<style scoped>\n",
       "    .dataframe tbody tr th:only-of-type {\n",
       "        vertical-align: middle;\n",
       "    }\n",
       "\n",
       "    .dataframe tbody tr th {\n",
       "        vertical-align: top;\n",
       "    }\n",
       "\n",
       "    .dataframe thead th {\n",
       "        text-align: right;\n",
       "    }\n",
       "</style>\n",
       "<table border=\"1\" class=\"dataframe\">\n",
       "  <thead>\n",
       "    <tr style=\"text-align: right;\">\n",
       "      <th></th>\n",
       "      <th>concept</th>\n",
       "      <th>women</th>\n",
       "      <th>men</th>\n",
       "      <th>difference</th>\n",
       "    </tr>\n",
       "  </thead>\n",
       "  <tbody>\n",
       "    <tr>\n",
       "      <th>0</th>\n",
       "      <td>power</td>\n",
       "      <td>-0.004742</td>\n",
       "      <td>-0.128928</td>\n",
       "      <td>0.124186</td>\n",
       "    </tr>\n",
       "    <tr>\n",
       "      <th>1</th>\n",
       "      <td>money</td>\n",
       "      <td>0.157959</td>\n",
       "      <td>0.293631</td>\n",
       "      <td>-0.135673</td>\n",
       "    </tr>\n",
       "    <tr>\n",
       "      <th>2</th>\n",
       "      <td>fame</td>\n",
       "      <td>0.539748</td>\n",
       "      <td>0.221141</td>\n",
       "      <td>0.318607</td>\n",
       "    </tr>\n",
       "    <tr>\n",
       "      <th>3</th>\n",
       "      <td>shine</td>\n",
       "      <td>-0.307635</td>\n",
       "      <td>-0.253759</td>\n",
       "      <td>-0.053876</td>\n",
       "    </tr>\n",
       "    <tr>\n",
       "      <th>4</th>\n",
       "      <td>work</td>\n",
       "      <td>0.139027</td>\n",
       "      <td>0.279030</td>\n",
       "      <td>-0.140003</td>\n",
       "    </tr>\n",
       "    <tr>\n",
       "      <th>5</th>\n",
       "      <td>fear</td>\n",
       "      <td>-0.199994</td>\n",
       "      <td>-0.396996</td>\n",
       "      <td>0.197003</td>\n",
       "    </tr>\n",
       "    <tr>\n",
       "      <th>6</th>\n",
       "      <td>love</td>\n",
       "      <td>0.435408</td>\n",
       "      <td>0.345494</td>\n",
       "      <td>0.089914</td>\n",
       "    </tr>\n",
       "    <tr>\n",
       "      <th>7</th>\n",
       "      <td>hate</td>\n",
       "      <td>0.047675</td>\n",
       "      <td>0.354393</td>\n",
       "      <td>-0.306718</td>\n",
       "    </tr>\n",
       "    <tr>\n",
       "      <th>8</th>\n",
       "      <td>anger</td>\n",
       "      <td>0.000000</td>\n",
       "      <td>0.000000</td>\n",
       "      <td>0.000000</td>\n",
       "    </tr>\n",
       "    <tr>\n",
       "      <th>9</th>\n",
       "      <td>joy</td>\n",
       "      <td>0.000000</td>\n",
       "      <td>0.000000</td>\n",
       "      <td>0.000000</td>\n",
       "    </tr>\n",
       "    <tr>\n",
       "      <th>10</th>\n",
       "      <td>sadness</td>\n",
       "      <td>0.000000</td>\n",
       "      <td>0.000000</td>\n",
       "      <td>0.000000</td>\n",
       "    </tr>\n",
       "    <tr>\n",
       "      <th>11</th>\n",
       "      <td>trust</td>\n",
       "      <td>-0.212231</td>\n",
       "      <td>0.025974</td>\n",
       "      <td>-0.238205</td>\n",
       "    </tr>\n",
       "    <tr>\n",
       "      <th>12</th>\n",
       "      <td>disgust</td>\n",
       "      <td>0.000000</td>\n",
       "      <td>0.000000</td>\n",
       "      <td>0.000000</td>\n",
       "    </tr>\n",
       "    <tr>\n",
       "      <th>13</th>\n",
       "      <td>surprise</td>\n",
       "      <td>0.000000</td>\n",
       "      <td>0.000000</td>\n",
       "      <td>0.000000</td>\n",
       "    </tr>\n",
       "    <tr>\n",
       "      <th>14</th>\n",
       "      <td>anticipation</td>\n",
       "      <td>0.000000</td>\n",
       "      <td>0.000000</td>\n",
       "      <td>0.000000</td>\n",
       "    </tr>\n",
       "    <tr>\n",
       "      <th>15</th>\n",
       "      <td>hope</td>\n",
       "      <td>0.097301</td>\n",
       "      <td>0.319485</td>\n",
       "      <td>-0.222183</td>\n",
       "    </tr>\n",
       "    <tr>\n",
       "      <th>16</th>\n",
       "      <td>relief</td>\n",
       "      <td>0.000000</td>\n",
       "      <td>0.000000</td>\n",
       "      <td>0.000000</td>\n",
       "    </tr>\n",
       "    <tr>\n",
       "      <th>17</th>\n",
       "      <td>envy</td>\n",
       "      <td>0.000000</td>\n",
       "      <td>0.000000</td>\n",
       "      <td>0.000000</td>\n",
       "    </tr>\n",
       "    <tr>\n",
       "      <th>18</th>\n",
       "      <td>guilt</td>\n",
       "      <td>0.000000</td>\n",
       "      <td>0.000000</td>\n",
       "      <td>0.000000</td>\n",
       "    </tr>\n",
       "    <tr>\n",
       "      <th>19</th>\n",
       "      <td>shame</td>\n",
       "      <td>-0.048144</td>\n",
       "      <td>-0.140637</td>\n",
       "      <td>0.092493</td>\n",
       "    </tr>\n",
       "    <tr>\n",
       "      <th>20</th>\n",
       "      <td>pride</td>\n",
       "      <td>0.000000</td>\n",
       "      <td>0.000000</td>\n",
       "      <td>0.000000</td>\n",
       "    </tr>\n",
       "    <tr>\n",
       "      <th>21</th>\n",
       "      <td>optimism</td>\n",
       "      <td>0.000000</td>\n",
       "      <td>0.000000</td>\n",
       "      <td>0.000000</td>\n",
       "    </tr>\n",
       "    <tr>\n",
       "      <th>22</th>\n",
       "      <td>pessimism</td>\n",
       "      <td>0.000000</td>\n",
       "      <td>0.000000</td>\n",
       "      <td>0.000000</td>\n",
       "    </tr>\n",
       "    <tr>\n",
       "      <th>23</th>\n",
       "      <td>faith</td>\n",
       "      <td>0.204307</td>\n",
       "      <td>0.030737</td>\n",
       "      <td>0.173570</td>\n",
       "    </tr>\n",
       "    <tr>\n",
       "      <th>24</th>\n",
       "      <td>despair</td>\n",
       "      <td>0.000000</td>\n",
       "      <td>0.000000</td>\n",
       "      <td>0.000000</td>\n",
       "    </tr>\n",
       "    <tr>\n",
       "      <th>25</th>\n",
       "      <td>courage</td>\n",
       "      <td>0.000000</td>\n",
       "      <td>0.000000</td>\n",
       "      <td>0.000000</td>\n",
       "    </tr>\n",
       "    <tr>\n",
       "      <th>26</th>\n",
       "      <td>bravery</td>\n",
       "      <td>0.000000</td>\n",
       "      <td>0.000000</td>\n",
       "      <td>0.000000</td>\n",
       "    </tr>\n",
       "    <tr>\n",
       "      <th>27</th>\n",
       "      <td>kindness</td>\n",
       "      <td>0.000000</td>\n",
       "      <td>0.000000</td>\n",
       "      <td>0.000000</td>\n",
       "    </tr>\n",
       "    <tr>\n",
       "      <th>28</th>\n",
       "      <td>compassion</td>\n",
       "      <td>0.000000</td>\n",
       "      <td>0.000000</td>\n",
       "      <td>0.000000</td>\n",
       "    </tr>\n",
       "    <tr>\n",
       "      <th>29</th>\n",
       "      <td>honesty</td>\n",
       "      <td>0.000000</td>\n",
       "      <td>0.000000</td>\n",
       "      <td>0.000000</td>\n",
       "    </tr>\n",
       "    <tr>\n",
       "      <th>30</th>\n",
       "      <td>loyalty</td>\n",
       "      <td>0.000000</td>\n",
       "      <td>0.000000</td>\n",
       "      <td>0.000000</td>\n",
       "    </tr>\n",
       "    <tr>\n",
       "      <th>31</th>\n",
       "      <td>justice</td>\n",
       "      <td>0.000000</td>\n",
       "      <td>0.000000</td>\n",
       "      <td>0.000000</td>\n",
       "    </tr>\n",
       "    <tr>\n",
       "      <th>32</th>\n",
       "      <td>fairness</td>\n",
       "      <td>0.000000</td>\n",
       "      <td>0.000000</td>\n",
       "      <td>0.000000</td>\n",
       "    </tr>\n",
       "    <tr>\n",
       "      <th>33</th>\n",
       "      <td>truth</td>\n",
       "      <td>0.062575</td>\n",
       "      <td>0.177888</td>\n",
       "      <td>-0.115313</td>\n",
       "    </tr>\n",
       "    <tr>\n",
       "      <th>34</th>\n",
       "      <td>beauty</td>\n",
       "      <td>0.000000</td>\n",
       "      <td>0.000000</td>\n",
       "      <td>0.000000</td>\n",
       "    </tr>\n",
       "    <tr>\n",
       "      <th>35</th>\n",
       "      <td>ugliness</td>\n",
       "      <td>0.000000</td>\n",
       "      <td>0.000000</td>\n",
       "      <td>0.000000</td>\n",
       "    </tr>\n",
       "    <tr>\n",
       "      <th>36</th>\n",
       "      <td>intelligence</td>\n",
       "      <td>0.000000</td>\n",
       "      <td>0.000000</td>\n",
       "      <td>0.000000</td>\n",
       "    </tr>\n",
       "    <tr>\n",
       "      <th>37</th>\n",
       "      <td>stupidity</td>\n",
       "      <td>0.000000</td>\n",
       "      <td>0.000000</td>\n",
       "      <td>0.000000</td>\n",
       "    </tr>\n",
       "    <tr>\n",
       "      <th>38</th>\n",
       "      <td>wisdom</td>\n",
       "      <td>0.000000</td>\n",
       "      <td>0.000000</td>\n",
       "      <td>0.000000</td>\n",
       "    </tr>\n",
       "    <tr>\n",
       "      <th>39</th>\n",
       "      <td>foolishness</td>\n",
       "      <td>0.000000</td>\n",
       "      <td>0.000000</td>\n",
       "      <td>0.000000</td>\n",
       "    </tr>\n",
       "    <tr>\n",
       "      <th>40</th>\n",
       "      <td>strength</td>\n",
       "      <td>-0.156541</td>\n",
       "      <td>-0.206087</td>\n",
       "      <td>0.049546</td>\n",
       "    </tr>\n",
       "    <tr>\n",
       "      <th>41</th>\n",
       "      <td>weakness</td>\n",
       "      <td>0.000000</td>\n",
       "      <td>0.000000</td>\n",
       "      <td>0.000000</td>\n",
       "    </tr>\n",
       "    <tr>\n",
       "      <th>42</th>\n",
       "      <td>health</td>\n",
       "      <td>0.000000</td>\n",
       "      <td>0.000000</td>\n",
       "      <td>0.000000</td>\n",
       "    </tr>\n",
       "    <tr>\n",
       "      <th>43</th>\n",
       "      <td>illness</td>\n",
       "      <td>0.000000</td>\n",
       "      <td>0.000000</td>\n",
       "      <td>0.000000</td>\n",
       "    </tr>\n",
       "    <tr>\n",
       "      <th>44</th>\n",
       "      <td>life</td>\n",
       "      <td>0.198578</td>\n",
       "      <td>-0.004612</td>\n",
       "      <td>0.203190</td>\n",
       "    </tr>\n",
       "    <tr>\n",
       "      <th>45</th>\n",
       "      <td>death</td>\n",
       "      <td>-0.072347</td>\n",
       "      <td>0.116583</td>\n",
       "      <td>-0.188930</td>\n",
       "    </tr>\n",
       "    <tr>\n",
       "      <th>46</th>\n",
       "      <td>peace</td>\n",
       "      <td>-0.142389</td>\n",
       "      <td>0.048977</td>\n",
       "      <td>-0.191366</td>\n",
       "    </tr>\n",
       "    <tr>\n",
       "      <th>47</th>\n",
       "      <td>war</td>\n",
       "      <td>-0.183202</td>\n",
       "      <td>-0.043508</td>\n",
       "      <td>-0.139694</td>\n",
       "    </tr>\n",
       "    <tr>\n",
       "      <th>48</th>\n",
       "      <td>freedom</td>\n",
       "      <td>0.000000</td>\n",
       "      <td>0.000000</td>\n",
       "      <td>0.000000</td>\n",
       "    </tr>\n",
       "  </tbody>\n",
       "</table>\n",
       "</div>"
      ],
      "text/plain": [
       "         concept     women       men  difference\n",
       "0          power -0.004742 -0.128928    0.124186\n",
       "1          money  0.157959  0.293631   -0.135673\n",
       "2           fame  0.539748  0.221141    0.318607\n",
       "3          shine -0.307635 -0.253759   -0.053876\n",
       "4           work  0.139027  0.279030   -0.140003\n",
       "5           fear -0.199994 -0.396996    0.197003\n",
       "6           love  0.435408  0.345494    0.089914\n",
       "7           hate  0.047675  0.354393   -0.306718\n",
       "8          anger  0.000000  0.000000    0.000000\n",
       "9            joy  0.000000  0.000000    0.000000\n",
       "10       sadness  0.000000  0.000000    0.000000\n",
       "11         trust -0.212231  0.025974   -0.238205\n",
       "12       disgust  0.000000  0.000000    0.000000\n",
       "13      surprise  0.000000  0.000000    0.000000\n",
       "14  anticipation  0.000000  0.000000    0.000000\n",
       "15          hope  0.097301  0.319485   -0.222183\n",
       "16        relief  0.000000  0.000000    0.000000\n",
       "17          envy  0.000000  0.000000    0.000000\n",
       "18         guilt  0.000000  0.000000    0.000000\n",
       "19         shame -0.048144 -0.140637    0.092493\n",
       "20         pride  0.000000  0.000000    0.000000\n",
       "21      optimism  0.000000  0.000000    0.000000\n",
       "22     pessimism  0.000000  0.000000    0.000000\n",
       "23         faith  0.204307  0.030737    0.173570\n",
       "24       despair  0.000000  0.000000    0.000000\n",
       "25       courage  0.000000  0.000000    0.000000\n",
       "26       bravery  0.000000  0.000000    0.000000\n",
       "27      kindness  0.000000  0.000000    0.000000\n",
       "28    compassion  0.000000  0.000000    0.000000\n",
       "29       honesty  0.000000  0.000000    0.000000\n",
       "30       loyalty  0.000000  0.000000    0.000000\n",
       "31       justice  0.000000  0.000000    0.000000\n",
       "32      fairness  0.000000  0.000000    0.000000\n",
       "33         truth  0.062575  0.177888   -0.115313\n",
       "34        beauty  0.000000  0.000000    0.000000\n",
       "35      ugliness  0.000000  0.000000    0.000000\n",
       "36  intelligence  0.000000  0.000000    0.000000\n",
       "37     stupidity  0.000000  0.000000    0.000000\n",
       "38        wisdom  0.000000  0.000000    0.000000\n",
       "39   foolishness  0.000000  0.000000    0.000000\n",
       "40      strength -0.156541 -0.206087    0.049546\n",
       "41      weakness  0.000000  0.000000    0.000000\n",
       "42        health  0.000000  0.000000    0.000000\n",
       "43       illness  0.000000  0.000000    0.000000\n",
       "44          life  0.198578 -0.004612    0.203190\n",
       "45         death -0.072347  0.116583   -0.188930\n",
       "46         peace -0.142389  0.048977   -0.191366\n",
       "47           war -0.183202 -0.043508   -0.139694\n",
       "48       freedom  0.000000  0.000000    0.000000"
      ]
     },
     "execution_count": 221,
     "metadata": {},
     "output_type": "execute_result"
    }
   ],
   "source": [
    "df"
   ]
  },
  {
   "attachments": {},
   "cell_type": "markdown",
   "metadata": {},
   "source": [
    "### By Decade"
   ]
  },
  {
   "cell_type": "code",
   "execution_count": 12,
   "metadata": {},
   "outputs": [],
   "source": [
    "nlps = {\"1990\":custom_1990_nlp,\"2000\":custom_2000_nlp,\"2010\":custom_2010_nlp}\n",
    "\n",
    "women_centroid_vectors = {}\n",
    "\n",
    "for year,nlp in nlps.items():\n",
    "    women_centroid_vectors[year] = get_centroid_vector(nlp,['women', 'girl'])\n",
    " \n",
    "men_centroid_vectors = {}\n",
    "for year,nlp in nlps.items():\n",
    " men_centroid_vectors[year] = get_centroid_vector(nlp, ['men','boy'])\n",
    "\n",
    "women_related_words = {}\n",
    "for year,nlp in nlps.items():\n",
    "    women_related_words[year] = ' '.join(w.text for w in most_similar(nlp,women_centroid_vectors[year].vector,100))\n",
    "    \n",
    "men_related_words = {}\n",
    "for year,nlp in nlps.items():\n",
    "    men_related_words[year] = ' '.join(w.text for w in most_similar(nlp,men_centroid_vectors[year].vector,100))\n",
    "\n"
   ]
  },
  {
   "attachments": {},
   "cell_type": "markdown",
   "metadata": {},
   "source": [
    "#### POS TAG that are the closest"
   ]
  },
  {
   "cell_type": "code",
   "execution_count": 16,
   "metadata": {},
   "outputs": [],
   "source": [
    "\n",
    "year_women_pos = {}\n",
    "for year,words in women_related_words.items():\n",
    "    women_pos = {}\n",
    "    for word in words.split(' '):\n",
    "        doc = anaylysis_nlp(word)\n",
    "        for token in doc:\n",
    "            if token.pos_ not in women_pos.keys():\n",
    "                women_pos[token.pos_] =1\n",
    "            else:\n",
    "                women_pos[token.pos_] +=1\n",
    "    year_women_pos[year] = sorted(women_pos.items(), key=lambda x: x[1], reverse=True)\n",
    "    \n",
    "year_men_pos = {}\n",
    "for year,words in men_related_words.items():\n",
    "    men_pos = {}\n",
    "    for word in words.split(' '):\n",
    "        doc = anaylysis_nlp(word)\n",
    "        for token in doc:\n",
    "            if token.pos_ not in men_pos.keys():\n",
    "                men_pos[token.pos_] =1\n",
    "            else:\n",
    "                men_pos[token.pos_] +=1\n",
    "    year_men_pos[year] = sorted(men_pos.items(), key=lambda x: x[1], reverse=True)\n",
    "    "
   ]
  },
  {
   "cell_type": "code",
   "execution_count": 17,
   "metadata": {},
   "outputs": [],
   "source": [
    "custom_palette = [\"#66c2a5\", \"#fc8d62\", \"#8da0cb\"]\n",
    "sns.set_palette(custom_palette)"
   ]
  },
  {
   "cell_type": "code",
   "execution_count": 18,
   "metadata": {},
   "outputs": [
    {
     "name": "stderr",
     "output_type": "stream",
     "text": [
      "C:\\Users\\Owein\\AppData\\Local\\Temp\\ipykernel_22068\\1243610563.py:21: FutureWarning: \n",
      "\n",
      "The `ci` parameter is deprecated. Use `errorbar=None` for the same effect.\n",
      "\n",
      "  sns.barplot(x='word', y='count', hue='year', data=df[df['gender'] == 'men' ].query(\"count >= 2\"), ci=None, estimator=sum, hue_order=year_women_pos.keys(), ax=ax1)\n",
      "C:\\Users\\Owein\\AppData\\Local\\Temp\\ipykernel_22068\\1243610563.py:25: FutureWarning: \n",
      "\n",
      "The `ci` parameter is deprecated. Use `errorbar=None` for the same effect.\n",
      "\n",
      "  sns.barplot(x='word', y='count', hue='year', data=df[df['gender'] == 'women'].query(\"count >= 2\"), ci=None, estimator=sum, hue_order=year_women_pos.keys(), ax=ax2)\n"
     ]
    },
    {
     "data": {
      "text/plain": [
       "<Figure size 1200x500 with 0 Axes>"
      ]
     },
     "metadata": {},
     "output_type": "display_data"
    },
    {
     "data": {
      "image/png": "[encoded data removed]",
      "text/plain": [
       "<Figure size 1100x500 with 2 Axes>"
      ]
     },
     "metadata": {},
     "output_type": "display_data"
    }
   ],
   "source": [
    "\n",
    "plt.figure(figsize=(12,5))\n",
    "df_list_women = []\n",
    "df_list_men = []\n",
    "for year, pos_list in year_women_pos.items():\n",
    "    df = pd.DataFrame(pos_list, columns=[\"word\", \"count\"])\n",
    "    df['year'] = year\n",
    "    df['gender'] = 'women'\n",
    "    df_list_women.append(df)\n",
    "    \n",
    "for year, pos_list in year_men_pos.items():\n",
    "    df = pd.DataFrame(pos_list, columns=[\"word\", \"count\"])\n",
    "    df['year'] = year\n",
    "    df['gender'] = 'men'\n",
    "    df_list_men.append(df)\n",
    "\n",
    "df = pd.concat(df_list_women+df_list_men, ignore_index=True)    \n",
    "\n",
    "fig, (ax1, ax2) = plt.subplots(1, 2, figsize=(11,5))\n",
    "\n",
    "# First plot (men)\n",
    "sns.barplot(x='word', y='count', hue='year', data=df[df['gender'] == 'men' ].query(\"count >= 2\"), ci=None, estimator=sum, hue_order=year_women_pos.keys(), ax=ax1)\n",
    "ax1.set_title(\"Men POS tag count by year\")\n",
    "\n",
    "# Second plot (women)\n",
    "sns.barplot(x='word', y='count', hue='year', data=df[df['gender'] == 'women'].query(\"count >= 2\"), ci=None, estimator=sum, hue_order=year_women_pos.keys(), ax=ax2)\n",
    "ax2.set_title(\"Women POS tag count by year\")\n",
    "\n",
    "plt.suptitle(\"POS tag count by year\")\n",
    "plt.legend(loc='upper right')\n",
    "plt.show()\n"
   ]
  },
  {
   "cell_type": "code",
   "execution_count": null,
   "metadata": {},
   "outputs": [],
   "source": []
  },
  {
   "attachments": {},
   "cell_type": "markdown",
   "metadata": {},
   "source": [
    "#### Positiveness analysis"
   ]
  },
  {
   "cell_type": "code",
   "execution_count": 19,
   "metadata": {},
   "outputs": [
    {
     "name": "stderr",
     "output_type": "stream",
     "text": [
      "[nltk_data] Downloading package vader_lexicon to\n",
      "[nltk_data]     C:\\Users\\Owein\\AppData\\Roaming\\nltk_data...\n",
      "[nltk_data]   Package vader_lexicon is already up-to-date!\n"
     ]
    }
   ],
   "source": [
    "import nltk\n",
    "from nltk.sentiment import SentimentIntensityAnalyzer\n",
    "nltk.download('vader_lexicon')\n",
    "sia = SentimentIntensityAnalyzer()\n",
    "\n",
    "def word_score(adj_list):\n",
    "    scores = [sia.polarity_scores(word)['compound'] for word in adj_list]\n",
    "    return scores\n"
   ]
  },
  {
   "attachments": {},
   "cell_type": "markdown",
   "metadata": {},
   "source": [
    "##### Closest Adjectives positiveness"
   ]
  },
  {
   "cell_type": "code",
   "execution_count": 20,
   "metadata": {},
   "outputs": [],
   "source": [
    "\n",
    "df_adj_women_list = []\n",
    "df_adj_men_list = []\n",
    "for year,words in women_related_words.items():\n",
    "    adjectives = []\n",
    "    for word in words.split(' '):\n",
    "        doc = anaylysis_nlp(word)\n",
    "        for token in doc:\n",
    "            if token.pos_ == 'ADJ':\n",
    "                adjectives.append(token.text)\n",
    "    df_adj_women_list.append(pd.DataFrame({'year':year,'gender':'women','adjectives':adjectives,'score':word_score(adjectives)}))\n",
    "for year,words in men_related_words.items():\n",
    "    adjectives = []\n",
    "    for word in words.split(' '):\n",
    "        doc = anaylysis_nlp(word)\n",
    "        for token in doc:\n",
    "            if token.pos_ == 'ADJ':\n",
    "                adjectives.append(token.text)\n",
    "    df_adj_men_list.append(pd.DataFrame({'year':year,'gender':'men','adjectives':adjectives,'score':word_score(adjectives)}))\n",
    "df = pd.concat(df_adj_women_list+df_adj_men_list, ignore_index=True) "
   ]
  },
  {
   "cell_type": "code",
   "execution_count": null,
   "metadata": {},
   "outputs": [
    {
     "data": {
      "text/plain": [
       "year\n",
       "1990    0.264229\n",
       "2000    0.236167\n",
       "2010    0.221200\n",
       "Name: score, dtype: float64"
      ]
     },
     "execution_count": 157,
     "metadata": {},
     "output_type": "execute_result"
    }
   ],
   "source": [
    "df[df['gender']==\"women\"].query('score != 0')['score'].groupby(df['year']).mean()"
   ]
  },
  {
   "cell_type": "code",
   "execution_count": null,
   "metadata": {},
   "outputs": [
    {
     "data": {
      "text/plain": [
       "year\n",
       "1990    0.091233\n",
       "2000   -0.164100\n",
       "2010   -0.002925\n",
       "Name: score, dtype: float64"
      ]
     },
     "execution_count": 156,
     "metadata": {},
     "output_type": "execute_result"
    }
   ],
   "source": [
    "df[df['gender']==\"men\"].query('score != 0')['score'].groupby(df['year']).mean()"
   ]
  },
  {
   "cell_type": "code",
   "execution_count": 21,
   "metadata": {},
   "outputs": [
    {
     "data": {
      "text/plain": [
       "Text(0.5, 1.0, 'Closest adjectives positiveness')"
      ]
     },
     "execution_count": 21,
     "metadata": {},
     "output_type": "execute_result"
    },
    {
     "data": {
      "image/png": "[encoded data removed]",
      "text/plain": [
       "<Figure size 640x480 with 1 Axes>"
      ]
     },
     "metadata": {},
     "output_type": "display_data"
    }
   ],
   "source": [
    "sns.barplot(x='year', y='score', hue='gender', data=df[df['score']!=0])\n",
    "plt.title('Closest adjectives positiveness')"
   ]
  },
  {
   "attachments": {},
   "cell_type": "markdown",
   "metadata": {},
   "source": [
    "#### Closest Noun positiveness"
   ]
  },
  {
   "cell_type": "code",
   "execution_count": 22,
   "metadata": {},
   "outputs": [],
   "source": [
    "df_noun_women_list = []\n",
    "df_noun_men_list = []\n",
    "for year,words in women_related_words.items():\n",
    "    nouns = []\n",
    "    for word in words.split(' '):\n",
    "        doc = anaylysis_nlp(word)\n",
    "        for token in doc:\n",
    "            if token.pos_ == 'NOUN':\n",
    "                nouns.append(token.text)\n",
    "    df_noun_women_list.append(pd.DataFrame({'year':year,'gender':'women','nouns':nouns,'score':word_score(nouns)}))\n",
    "for year,words in men_related_words.items():\n",
    "    nouns = []\n",
    "    for word in words.split(' '):\n",
    "        doc = anaylysis_nlp(word)\n",
    "        for token in doc:\n",
    "            if token.pos_ == 'NOUN':\n",
    "                nouns.append(token.text)\n",
    "    df_noun_men_list.append(pd.DataFrame({'year':year,'gender':'men','nouns':nouns,'score':word_score(nouns)}))\n",
    "df = pd.concat(df_noun_women_list+df_noun_men_list, ignore_index=True) "
   ]
  },
  {
   "cell_type": "code",
   "execution_count": 23,
   "metadata": {},
   "outputs": [
    {
     "data": {
      "text/plain": [
       "Text(0.5, 1.0, 'Closest nouns positiveness')"
      ]
     },
     "execution_count": 23,
     "metadata": {},
     "output_type": "execute_result"
    },
    {
     "data": {
      "image/png": "[encoded data removed]",
      "text/plain": [
       "<Figure size 640x480 with 1 Axes>"
      ]
     },
     "metadata": {},
     "output_type": "display_data"
    }
   ],
   "source": [
    "sns.barplot(x='year', y='score', hue='gender', data=df[df['score']!=0])\n",
    "plt.title('Closest nouns positiveness')"
   ]
  },
  {
   "attachments": {},
   "cell_type": "markdown",
   "metadata": {},
   "source": [
    "#### Closest Verbs positiveness"
   ]
  },
  {
   "cell_type": "code",
   "execution_count": 24,
   "metadata": {},
   "outputs": [],
   "source": [
    "df_verbs_women_list = []\n",
    "df_verbs_men_list = []\n",
    "for year,words in women_related_words.items():\n",
    "    verbs = []\n",
    "    for word in words.split(' '):\n",
    "        doc = anaylysis_nlp(word)\n",
    "        for token in doc:\n",
    "            if token.pos_ == 'VERB':\n",
    "                verbs.append(token.text)\n",
    "    df_verbs_women_list.append(pd.DataFrame({'year':year,'gender':'women','verbs':verbs,'score':word_score(verbs)}))\n",
    "for year,words in men_related_words.items():\n",
    "    verbs = []\n",
    "    for word in words.split(' '):\n",
    "        doc = anaylysis_nlp(word)\n",
    "        for token in doc:\n",
    "            if token.pos_ == 'VERB':\n",
    "                verbs.append(token.text)\n",
    "    df_verbs_men_list.append(pd.DataFrame({'year':year,'gender':'men','verbs':verbs,'score':word_score(verbs)}))\n",
    "df = pd.concat(df_verbs_women_list+df_verbs_men_list, ignore_index=True) "
   ]
  },
  {
   "cell_type": "code",
   "execution_count": null,
   "metadata": {},
   "outputs": [
    {
     "data": {
      "text/plain": [
       "year\n",
       "1990    0.022460\n",
       "2000   -0.015080\n",
       "2010   -0.309967\n",
       "Name: score, dtype: float64"
      ]
     },
     "execution_count": 171,
     "metadata": {},
     "output_type": "execute_result"
    }
   ],
   "source": [
    "df[df['gender']==\"men\"].query('score != 0')['score'].groupby(df['year']).mean()"
   ]
  },
  {
   "cell_type": "code",
   "execution_count": 25,
   "metadata": {},
   "outputs": [
    {
     "data": {
      "text/plain": [
       "Text(0.5, 1.0, 'Closest Verbs positiveness')"
      ]
     },
     "execution_count": 25,
     "metadata": {},
     "output_type": "execute_result"
    },
    {
     "data": {
      "image/png": "[encoded data removed]",
      "text/plain": [
       "<Figure size 640x480 with 1 Axes>"
      ]
     },
     "metadata": {},
     "output_type": "display_data"
    }
   ],
   "source": [
    "sns.barplot(x='year', y='score', hue='gender', data=df[df['score']!=0])\n",
    "plt.title('Closest Verbs positiveness')"
   ]
  },
  {
   "attachments": {},
   "cell_type": "markdown",
   "metadata": {},
   "source": [
    "#### Plot the similarity between gender on concepts"
   ]
  },
  {
   "cell_type": "code",
   "execution_count": 26,
   "metadata": {},
   "outputs": [],
   "source": [
    "gender_vectors = [women_centroid_vectors,men_centroid_vectors]"
   ]
  },
  {
   "cell_type": "code",
   "execution_count": 30,
   "metadata": {},
   "outputs": [],
   "source": [
    "concepts = ['power','money','work','love','anger','pride','truth','beauty','intelligence','freedom','child']\n",
    "concept_genders = {concept:{'1990':0,'2000':0,'2010':0} for concept in concepts}\n",
    "\n",
    "for concept in concepts:\n",
    "    for year in ['1990','2000','2010']:\n",
    "        concept_genders[concept][year] = get_the_similarity([women_centroid_vectors[year],men_centroid_vectors[year]], nlps[year].vocab[concept]) \n"
   ]
  },
  {
   "cell_type": "code",
   "execution_count": 31,
   "metadata": {},
   "outputs": [],
   "source": [
    "values = list(concept_genders.values())\n",
    "d_values = []\n",
    "for concept in values:\n",
    "    for  v in concept.values():\n",
    "        d_values.append(v)\n",
    "y_values = []\n",
    "for concept in values:\n",
    "    for  v in concept:\n",
    "        y_values.append(v)\n",
    "c_values = []\n",
    "for key in concept_genders.keys():\n",
    "    c_values.append(key)\n",
    "    c_values.append(key)\n",
    "    c_values.append(key)\n",
    "df_list = []\n",
    "df_list.append(pd.DataFrame({ 'concept':c_values, 'year':y_values, 'women': [x[0] for x in d_values], 'men': [x[1] for x in d_values]}))\n",
    "        \n",
    "df = pd.concat(df_list, ignore_index=True)\n"
   ]
  },
  {
   "cell_type": "code",
   "execution_count": 32,
   "metadata": {},
   "outputs": [
    {
     "data": {
      "image/png": "[encoded data removed]",
      "text/plain": [
       "<Figure size 1000x500 with 1 Axes>"
      ]
     },
     "metadata": {},
     "output_type": "display_data"
    }
   ],
   "source": [
    "import seaborn as sns\n",
    "import pandas as pd\n",
    "\n",
    "plt.figure(figsize=(10,5))\n",
    "\n",
    "# Compute the difference in similarity between men and women\n",
    "df['difference'] = df['women'] - df['men']\n",
    "\n",
    "# Create the bar plot\n",
    "sns.barplot(x='concept', y='difference', data=df[df['men']!=0], hue='year', hue_order=['1990', '2000', '2010'])\n",
    "\n",
    "# Add labels and title\n",
    "plt.xlabel('Concepts')\n",
    "plt.ylabel('Similarity Difference')\n",
    "plt.title('Similarity difference between Male and Female by Concept')\n",
    "\n",
    "# Show the plot\n",
    "plt.show()"
   ]
  }
 ],
 "metadata": {
  "kernelspec": {
   "display_name": "RapBiasAnalysis",
   "language": "python",
   "name": "python3"
  },
  "language_info": {
   "codemirror_mode": {
    "name": "ipython",
    "version": 3
   },
   "file_extension": ".py",
   "mimetype": "text/x-python",
   "name": "python",
   "nbconvert_exporter": "python",
   "pygments_lexer": "ipython3",
   "version": "3.9.10"
  },
  "orig_nbformat": 4,
  "vscode": {
   "interpreter": {
    "hash": "b0db0af5d3a04471e277118ef0c771e5ec592c48752619dee87f1431a8a63659"
   }
  }
 },
 "nbformat": 4,
 "nbformat_minor": 2
}
